{
 "cells": [
  {
   "cell_type": "code",
   "execution_count": 1,
   "id": "f1cad645",
   "metadata": {
    "execution": {
     "iopub.execute_input": "2023-07-29T15:57:02.804864Z",
     "iopub.status.busy": "2023-07-29T15:57:02.804365Z",
     "iopub.status.idle": "2023-07-29T15:57:08.955460Z",
     "shell.execute_reply": "2023-07-29T15:57:08.954024Z"
    },
    "papermill": {
     "duration": 6.159769,
     "end_time": "2023-07-29T15:57:08.958154",
     "exception": false,
     "start_time": "2023-07-29T15:57:02.798385",
     "status": "completed"
    },
    "tags": []
   },
   "outputs": [
    {
     "name": "stdout",
     "output_type": "stream",
     "text": [
      "bin   cuda-11\t cuda-12    etc    include  man     sbin   src\r\n",
      "cuda  cuda-11.8  cuda-12.1  games  lib\t    nvidia  share\r\n"
     ]
    }
   ],
   "source": [
    "# чужие датасеты и фиксированное 512 \n",
    "\n",
    "import os, glob\n",
    "import sys\n",
    "import json\n",
    "from PIL import Image\n",
    "from collections import Counter\n",
    "import numpy as np\n",
    "import pandas as pd\n",
    "import plotly.express as px\n",
    "import plotly.graph_objects as go\n",
    "import tifffile as tiff\n",
    "import matplotlib.pyplot as plt\n",
    "from tqdm import tqdm\n",
    "import torch\n",
    "import cv2\n",
    "import pandas as pd\n",
    "from sklearn.model_selection import KFold\n",
    "\n",
    "sys.path.append(\"/kaggle/input/detection-wheel\")\n",
    "import torch\n",
    "torch.__version__  #torch 2.0\n",
    "#!nvidia-smi   #CUDA Version: 11.4\n",
    "! ls /usr/local"
   ]
  },
  {
   "cell_type": "code",
   "execution_count": 2,
   "id": "a81cc894",
   "metadata": {
    "execution": {
     "iopub.execute_input": "2023-07-29T15:57:08.968194Z",
     "iopub.status.busy": "2023-07-29T15:57:08.966989Z",
     "iopub.status.idle": "2023-07-29T15:57:09.552161Z",
     "shell.execute_reply": "2023-07-29T15:57:09.551175Z"
    },
    "papermill": {
     "duration": 0.592733,
     "end_time": "2023-07-29T15:57:09.554771",
     "exception": false,
     "start_time": "2023-07-29T15:57:08.962038",
     "status": "completed"
    },
    "tags": []
   },
   "outputs": [],
   "source": [
    "\n",
    "import sys\n",
    "sys.path.append('../input/ensemble-boxes/')\n",
    "from ensemble_boxes import weighted_boxes_fusion, weighted_masks_fusion"
   ]
  },
  {
   "cell_type": "code",
   "execution_count": 3,
   "id": "4e216a32",
   "metadata": {
    "execution": {
     "iopub.execute_input": "2023-07-29T15:57:09.563961Z",
     "iopub.status.busy": "2023-07-29T15:57:09.563334Z",
     "iopub.status.idle": "2023-07-29T16:00:24.305760Z",
     "shell.execute_reply": "2023-07-29T16:00:24.304231Z"
    },
    "papermill": {
     "duration": 194.749835,
     "end_time": "2023-07-29T16:00:24.308433",
     "exception": false,
     "start_time": "2023-07-29T15:57:09.558598",
     "status": "completed"
    },
    "tags": []
   },
   "outputs": [],
   "source": [
    "# # Install pycocotools package\n",
    "import os\n",
    "\n",
    "%mkdir work_dir_test\n",
    "!pip install -qqq /kaggle/input/mmdet3-wheels-ando/addict-2.4.0-py3-none-any.whl\n",
    "!pip install -qqq /kaggle/input/mmdet3-wheels-ando/mmengine-0.7.3-py3-none-any.whl\n",
    "!pip install -qqq /kaggle/input/mmdet3-wheels-ando/mmcv-2.0.0-cp310-cp310-linux_x86_64.whl\n",
    "!pip install -qqq /kaggle/input/pycocotools-206/wheels/pycocotools-2.0.6-cp310-cp310-linux_x86_64.whl\n",
    "!pip install -qqq /kaggle/input/mmdet3-wheels-ando/terminaltables-3.1.10-py2.py3-none-any.whl\n",
    "!pip install -qqq /kaggle/input/mmdet3-wheels-ando/mmdet-3.0.0-py3-none-any.whl"
   ]
  },
  {
   "cell_type": "code",
   "execution_count": 4,
   "id": "daf6c74b",
   "metadata": {
    "execution": {
     "iopub.execute_input": "2023-07-29T16:00:24.317839Z",
     "iopub.status.busy": "2023-07-29T16:00:24.317483Z",
     "iopub.status.idle": "2023-07-29T16:00:24.695916Z",
     "shell.execute_reply": "2023-07-29T16:00:24.694964Z"
    },
    "papermill": {
     "duration": 0.385915,
     "end_time": "2023-07-29T16:00:24.698397",
     "exception": false,
     "start_time": "2023-07-29T16:00:24.312482",
     "status": "completed"
    },
    "tags": []
   },
   "outputs": [],
   "source": [
    "import base64\n",
    "import numpy as np\n",
    "from pycocotools import _mask as coco_mask\n",
    "import typing as t\n",
    "import zlib\n",
    "from skimage.morphology import binary_dilation\n",
    "\n",
    "def encode_binary_mask(mask: np.ndarray) -> t.Text:\n",
    "    \"\"\"Converts a binary mask into OID challenge encoding ascii text.\"\"\"\n",
    "\n",
    "    mask = mask.astype(bool)\n",
    "    sg = mask.astype(np.uint8)\n",
    "    #kernel = np.ones(shape=(2, 2), dtype=np.uint8)\n",
    "    #mask = cv2.dilate(sg, kernel,3)\n",
    "    #mask = binary_dilation(mask)\n",
    "    #mask = binary_dilation(mask)\n",
    "    #mask = binary_dilation(mask)\n",
    "    # check input mask --\n",
    "    if mask.dtype != bool:\n",
    "        raise ValueError(\n",
    "            \"encode_binary_mask expects a binary mask, received dtype == %s\" %\n",
    "            mask.dtype)\n",
    "\n",
    "    mask = np.squeeze(mask)\n",
    "    if len(mask.shape) != 2:\n",
    "        raise ValueError(\n",
    "            \"encode_binary_mask expects a 2d mask, received shape == %s\" %\n",
    "            mask.shape)\n",
    "\n",
    "    # convert input mask to expected COCO API input --\n",
    "    mask_to_encode = mask.reshape(mask.shape[0], mask.shape[1], 1)\n",
    "    mask_to_encode = mask_to_encode.astype(np.uint8)\n",
    "    mask_to_encode = np.asfortranarray(mask_to_encode)\n",
    "\n",
    "    # RLE encode mask --\n",
    "    encoded_mask = coco_mask.encode(mask_to_encode)[0][\"counts\"]\n",
    "\n",
    "    # compress and base64 encoding --\n",
    "    binary_str = zlib.compress(encoded_mask, zlib.Z_BEST_COMPRESSION)\n",
    "    base64_str = base64.b64encode(binary_str)\n",
    "    return base64_str"
   ]
  },
  {
   "cell_type": "code",
   "execution_count": 5,
   "id": "b7da9453",
   "metadata": {
    "execution": {
     "iopub.execute_input": "2023-07-29T16:00:24.708204Z",
     "iopub.status.busy": "2023-07-29T16:00:24.707249Z",
     "iopub.status.idle": "2023-07-29T16:00:24.763043Z",
     "shell.execute_reply": "2023-07-29T16:00:24.762085Z"
    },
    "papermill": {
     "duration": 0.063337,
     "end_time": "2023-07-29T16:00:24.765663",
     "exception": false,
     "start_time": "2023-07-29T16:00:24.702326",
     "status": "completed"
    },
    "tags": []
   },
   "outputs": [],
   "source": [
    "import os\n",
    "import numpy as np\n",
    "import torch\n",
    "from PIL import Image\n",
    "device = torch.device('cuda') if torch.cuda.is_available() else torch.device('cpu')\n"
   ]
  },
  {
   "cell_type": "code",
   "execution_count": 6,
   "id": "46b3ba38",
   "metadata": {
    "execution": {
     "iopub.execute_input": "2023-07-29T16:00:24.775055Z",
     "iopub.status.busy": "2023-07-29T16:00:24.774166Z",
     "iopub.status.idle": "2023-07-29T16:00:38.205163Z",
     "shell.execute_reply": "2023-07-29T16:00:38.204084Z"
    },
    "papermill": {
     "duration": 13.438318,
     "end_time": "2023-07-29T16:00:38.207761",
     "exception": false,
     "start_time": "2023-07-29T16:00:24.769443",
     "status": "completed"
    },
    "tags": []
   },
   "outputs": [
    {
     "name": "stdout",
     "output_type": "stream",
     "text": [
      "Loads checkpoint by local backend from path: /kaggle/input/hubmap-0707/HybridTaskCascade-353-1200/best_coco_segm_mAP_epoch_11.pth\n",
      "Loads checkpoint by local backend from path: /kaggle/input/hubmap-0707/HybridTaskCascade-353-1200/best_coco_segm_mAP_epoch_11.pth\n"
     ]
    }
   ],
   "source": [
    "from mmdet.apis import init_detector, inference_detector\n",
    "\n",
    "from mmengine.config import Config\n",
    "from mmengine.runner import Runner\n",
    "\n",
    "\n",
    "config_file = '/kaggle/input/hubmap-0707/HybridTaskCascade-353-1200/custom_config.py'\n",
    "#config_file = '/kaggle/input/hubmap-gao/custom_config.py'\n",
    "\n",
    "cfg = Config.fromfile(config_file )\n",
    "\n",
    "\n",
    "checkpoint_file = '/kaggle/input/hubmap-0707/HybridTaskCascade-353-1200/best_coco_segm_mAP_epoch_11.pth'\n",
    "checkpoint_file2 = '/kaggle/input/hubmap-0707/HybridTaskCascade-353-1200/best_coco_segm_mAP_epoch_11.pth'\n",
    "\n",
    "model = init_detector(cfg, checkpoint_file, device=device)  # or device='cuda:0'\n",
    "model2 = init_detector(cfg, checkpoint_file2, device=device)  # or device='cuda:0'\n",
    "\n",
    "all_imgs = glob.glob('/kaggle/input/hubmap-hacking-the-human-vasculature/test/*.tif')\n",
    "#all_imgs = glob.glob('/kaggle/input/hubmap-hacking-the-human-vasculature/train/*.tif')   # test for CUDA OOM error\n",
    "\n"
   ]
  },
  {
   "cell_type": "code",
   "execution_count": 7,
   "id": "98a6a47d",
   "metadata": {
    "execution": {
     "iopub.execute_input": "2023-07-29T16:00:38.218703Z",
     "iopub.status.busy": "2023-07-29T16:00:38.217053Z",
     "iopub.status.idle": "2023-07-29T16:00:43.705359Z",
     "shell.execute_reply": "2023-07-29T16:00:43.704309Z"
    },
    "papermill": {
     "duration": 5.496313,
     "end_time": "2023-07-29T16:00:43.708070",
     "exception": false,
     "start_time": "2023-07-29T16:00:38.211757",
     "status": "completed"
    },
    "tags": []
   },
   "outputs": [
    {
     "name": "stderr",
     "output_type": "stream",
     "text": [
      "/opt/conda/lib/python3.10/site-packages/mmdet/models/roi_heads/mask_heads/fcn_mask_head.py:339: UserWarning: To copy construct from a tensor, it is recommended to use sourceTensor.clone().detach() or sourceTensor.clone().detach().requires_grad_(True), rather than tensor.new_tensor(sourceTensor).\n",
      "  mask_preds = bboxes.new_tensor(mask_preds)\n"
     ]
    }
   ],
   "source": [
    "ids = []\n",
    "heights = []\n",
    "widths = []\n",
    "prediction_string = []\n",
    "\n",
    "sample = None\n",
    "import mmcv\n",
    "confidence_thresholds = {0: 0.5, 1: 0.5, 2: 0.8}\n",
    "\n",
    "\n",
    "for img in all_imgs:\n",
    "    img_array = mmcv.imread(img,channel_order='rgb')\n",
    "    [h, w, c] = img_array.shape \n",
    "    pred = inference_detector(model,img)\n",
    "    \n",
    "    pred2 = inference_detector(model2,img)\n",
    "    \n",
    "    pr_i = pred.pred_instances\n",
    "    pr_i2 = pred2.pred_instances\n",
    "    id = pred.img_path.split(\"/\")[-1][:-4]\n",
    "    shape = pred.img_shape\n",
    "    height = h #shape[0]\n",
    "    width = w #shape[1]\n",
    "\n",
    "    scores = pr_i.scores.cpu().numpy()\n",
    "    masks = pr_i.masks.cpu().numpy()\n",
    "    boxes = pr_i.bboxes.cpu().numpy()\n",
    "\n",
    "    scores2 = pr_i2.scores.cpu().numpy()\n",
    "    masks2 = pr_i2.masks.cpu().numpy()\n",
    "    boxes2 = pr_i2.bboxes.cpu().numpy()\n",
    "    \n",
    "    pred_strings = []\n",
    "\n",
    "    # ensemble models using WMF. WMF is WBF applied to mask ensemble.\n",
    "    MODEL_WEIGHTS = [1,1]\n",
    "    wmf_inp_models = [0] * len(scores)\n",
    "    wmf_inp_models += [1] * len(scores2)\n",
    "    wmf_inp_models = np.array(wmf_inp_models)\n",
    "    \n",
    "    wmf_inp_pred_masks = np.vstack([masks, masks2])\n",
    "    wmf_inp_pred_boxes = np.vstack([boxes, boxes2])\n",
    "    wmf_inp_scores  = np.hstack([scores, scores2])\n",
    "    \n",
    "    \n",
    "    wmf_masks, wmf_scores, wms_boxes = weighted_masks_fusion( wmf_inp_pred_masks, wmf_inp_pred_boxes, wmf_inp_scores, wmf_inp_models,\n",
    "                                               skip_mask_thr=0,\n",
    "                                               conf_type='model_weight',\n",
    "                                               soft_weight=np.sum(MODEL_WEIGHTS),\n",
    "                                               num_models=2,\n",
    "                                               model_weights = MODEL_WEIGHTS)\n",
    "    \n",
    "    \n",
    "    \n",
    "    #for score, mask in zip(scores, masks):\n",
    "    for score, mask in zip(wmf_scores, wmf_masks):\n",
    "\n",
    "        pred_strings.append(\" \".join([\"0\", str(score), encode_binary_mask(mask).decode()]))\n",
    "\n",
    "        #print (score,counter)\n",
    "        #plt.imshow(mask)\n",
    "        #plt.show()\n",
    "    ids.append(id)\n",
    "    heights.append(height)\n",
    "    widths.append(width)\n",
    "    prediction_string.append(\" \".join(pred_strings))\n",
    "\n",
    "sub = pd.DataFrame({\"id\": ids, \"height\": heights, \"width\": widths, \"prediction_string\": prediction_string})\n",
    "sub = sub.set_index(\"id\")\n",
    "sub.to_csv(\"submission.csv\")\n",
    "\n"
   ]
  },
  {
   "cell_type": "code",
   "execution_count": 8,
   "id": "3e377612",
   "metadata": {
    "execution": {
     "iopub.execute_input": "2023-07-29T16:00:43.718419Z",
     "iopub.status.busy": "2023-07-29T16:00:43.716918Z",
     "iopub.status.idle": "2023-07-29T16:00:43.726346Z",
     "shell.execute_reply": "2023-07-29T16:00:43.725492Z"
    },
    "papermill": {
     "duration": 0.016276,
     "end_time": "2023-07-29T16:00:43.728374",
     "exception": false,
     "start_time": "2023-07-29T16:00:43.712098",
     "status": "completed"
    },
    "tags": []
   },
   "outputs": [
    {
     "data": {
      "text/plain": [
       "100"
      ]
     },
     "execution_count": 8,
     "metadata": {},
     "output_type": "execute_result"
    }
   ],
   "source": [
    "len(wmf_masks)\n",
    "\n",
    "len(wmf_scores)\n",
    "\n",
    "#masks.shape"
   ]
  },
  {
   "cell_type": "code",
   "execution_count": 9,
   "id": "cac3d306",
   "metadata": {
    "execution": {
     "iopub.execute_input": "2023-07-29T16:00:43.737395Z",
     "iopub.status.busy": "2023-07-29T16:00:43.737108Z",
     "iopub.status.idle": "2023-07-29T16:00:43.743231Z",
     "shell.execute_reply": "2023-07-29T16:00:43.742401Z"
    },
    "papermill": {
     "duration": 0.013027,
     "end_time": "2023-07-29T16:00:43.745329",
     "exception": false,
     "start_time": "2023-07-29T16:00:43.732302",
     "status": "completed"
    },
    "tags": []
   },
   "outputs": [
    {
     "data": {
      "text/plain": [
       "\" \\nif len(all_imgs)==1:  # visualisation\\n    #top20 = [sample[0]['masks'][i].cpu().numpy().reshape(512, 512) for i in range(min(20,len(sample[0]['masks'])))]\\n    top20 = masks[0:20,:,:]\\n    \\n    pred_img = np.zeros((512,512), dtype=np.float32)\\n    for i, j in enumerate(top20):\\n        pred_img += j * (1 - 1/len(top20)*i)\\n        pred_img = np.clip(pred_img, 0, 1)\\n        #print(sample[0]['scores'][i].cpu().numpy())\\n        plt.imshow(j)\\n        plt.show()\\n        \\n    plt.imshow(pred_img)\\n    plt.show()\\n\""
      ]
     },
     "execution_count": 9,
     "metadata": {},
     "output_type": "execute_result"
    }
   ],
   "source": [
    "''' \n",
    "if len(all_imgs)==1:  # visualisation\n",
    "    #top20 = [sample[0]['masks'][i].cpu().numpy().reshape(512, 512) for i in range(min(20,len(sample[0]['masks'])))]\n",
    "    top20 = masks[0:20,:,:]\n",
    "    \n",
    "    pred_img = np.zeros((512,512), dtype=np.float32)\n",
    "    for i, j in enumerate(top20):\n",
    "        pred_img += j * (1 - 1/len(top20)*i)\n",
    "        pred_img = np.clip(pred_img, 0, 1)\n",
    "        #print(sample[0]['scores'][i].cpu().numpy())\n",
    "        plt.imshow(j)\n",
    "        plt.show()\n",
    "        \n",
    "    plt.imshow(pred_img)\n",
    "    plt.show()\n",
    "'''"
   ]
  },
  {
   "cell_type": "code",
   "execution_count": 10,
   "id": "f43d8816",
   "metadata": {
    "execution": {
     "iopub.execute_input": "2023-07-29T16:00:43.756544Z",
     "iopub.status.busy": "2023-07-29T16:00:43.755451Z",
     "iopub.status.idle": "2023-07-29T16:00:43.769818Z",
     "shell.execute_reply": "2023-07-29T16:00:43.768921Z"
    },
    "papermill": {
     "duration": 0.022453,
     "end_time": "2023-07-29T16:00:43.771943",
     "exception": false,
     "start_time": "2023-07-29T16:00:43.749490",
     "status": "completed"
    },
    "tags": []
   },
   "outputs": [
    {
     "data": {
      "text/html": [
       "<div>\n",
       "<style scoped>\n",
       "    .dataframe tbody tr th:only-of-type {\n",
       "        vertical-align: middle;\n",
       "    }\n",
       "\n",
       "    .dataframe tbody tr th {\n",
       "        vertical-align: top;\n",
       "    }\n",
       "\n",
       "    .dataframe thead th {\n",
       "        text-align: right;\n",
       "    }\n",
       "</style>\n",
       "<table border=\"1\" class=\"dataframe\">\n",
       "  <thead>\n",
       "    <tr style=\"text-align: right;\">\n",
       "      <th></th>\n",
       "      <th>height</th>\n",
       "      <th>width</th>\n",
       "      <th>prediction_string</th>\n",
       "    </tr>\n",
       "    <tr>\n",
       "      <th>id</th>\n",
       "      <th></th>\n",
       "      <th></th>\n",
       "      <th></th>\n",
       "    </tr>\n",
       "  </thead>\n",
       "  <tbody>\n",
       "    <tr>\n",
       "      <th>72e40acccadf</th>\n",
       "      <td>512</td>\n",
       "      <td>512</td>\n",
       "      <td>0 0.9773691296577454 eNoLzM82yTAItzfzMvI38Dc0A...</td>\n",
       "    </tr>\n",
       "  </tbody>\n",
       "</table>\n",
       "</div>"
      ],
      "text/plain": [
       "              height  width                                  prediction_string\n",
       "id                                                                            \n",
       "72e40acccadf     512    512  0 0.9773691296577454 eNoLzM82yTAItzfzMvI38Dc0A..."
      ]
     },
     "execution_count": 10,
     "metadata": {},
     "output_type": "execute_result"
    }
   ],
   "source": [
    "sub"
   ]
  }
 ],
 "metadata": {
  "kernelspec": {
   "display_name": "Python 3",
   "language": "python",
   "name": "python3"
  },
  "language_info": {
   "codemirror_mode": {
    "name": "ipython",
    "version": 3
   },
   "file_extension": ".py",
   "mimetype": "text/x-python",
   "name": "python",
   "nbconvert_exporter": "python",
   "pygments_lexer": "ipython3",
   "version": "3.10.10"
  },
  "papermill": {
   "default_parameters": {},
   "duration": 234.719182,
   "end_time": "2023-07-29T16:00:47.199700",
   "environment_variables": {},
   "exception": null,
   "input_path": "__notebook__.ipynb",
   "output_path": "__notebook__.ipynb",
   "parameters": {},
   "start_time": "2023-07-29T15:56:52.480518",
   "version": "2.4.0"
  }
 },
 "nbformat": 4,
 "nbformat_minor": 5
}
